{
 "cells": [
  {
   "cell_type": "code",
   "execution_count": null,
   "metadata": {},
   "outputs": [],
   "source": [
    "import numpy as np\n",
    "import pandas as pd\n",
    "import re\n",
    "from bs4 import BeautifulSoup\n",
    "from datetime import datetime\n",
    "from datetime import date\n",
    "from requests import get\n",
    "import matplotlib.pyplot as plt\n",
    "import matplotlib.cm as cm\n",
    "import seaborn as sns\n",
    "import math\n",
    "import warnings\n",
    "warnings.filterwarnings('ignore')"
   ]
  },
  {
   "cell_type": "markdown",
   "metadata": {},
   "source": [
    "# Hockey Goals and the Positions of Scoring"
   ]
  },
  {
   "cell_type": "markdown",
   "metadata": {},
   "source": [
    "Many sports analysis have tried to find a different correlation betweening being a successful winning team, average team, and a losing team. As of right now, the only strong correlation between these is how many goals are scored. This begs the question, if goals scored is the strongest indicator of team status, then is there locations on the ice that determine a teams strongest scoring position?"
   ]
  },
  {
   "cell_type": "markdown",
   "metadata": {},
   "source": [
    "To answer this, the location of goal data will need to be collected from every team in the NHL, along with the location from where the goal was scored. Then a cluster model will be created to determine:\n",
    "- Goal scoring zones\n",
    "- Goal scoring zones percentage\n",
    "- Goal vs shots percentages\n",
    "- Goals scored vs goals blocked by opposing team"
   ]
  },
  {
   "cell_type": "markdown",
   "metadata": {},
   "source": [
    "In order for us to get appropriate hockey data, we will be usinf ESPN.com in order to get positional data from where goals are scored."
   ]
  },
  {
   "cell_type": "markdown",
   "metadata": {},
   "source": [
    "\n",
    "![rink](tom.png)\n"
   ]
  },
  {
   "cell_type": "markdown",
   "metadata": {},
   "source": [
    "In order to get shot positions, we need to be able to get every game That has been played this season for all teams. For that, obtaining the season schedule for games played."
   ]
  },
  {
   "cell_type": "markdown",
   "metadata": {},
   "source": [
    "![Schedule](schedule.png)"
   ]
  },
  {
   "cell_type": "markdown",
   "metadata": {},
   "source": [
    "From here we can get a couple things:\n",
    "- Date of Game\n",
    "- Home/Away\n",
    "- Team Played\n",
    "- Win/Loss\n",
    "- Score\n",
    "- By regulation, Overtime, or shootout\n",
    "- Goalie Played\n",
    "- best player\n",
    "<br>\n",
    "<p>\n",
    "    each game also has a game ID that can be found if the href tag for each game played. If you are to click on the score, you would be redirected to the link as shown in the html"
   ]
  },
  {
   "cell_type": "markdown",
   "metadata": {},
   "source": [
    "![schedule](Schedule11.png)\n",
    "![schedule2](Schedule21.png)"
   ]
  },
  {
   "cell_type": "markdown",
   "metadata": {},
   "source": [
    "From this information we can now start web scrapping. First thing that needs to be done is getting the appropriate links for each NHL team possible. From webscrapping the teams page on espn.com, we get the following:"
   ]
  },
  {
   "cell_type": "markdown",
   "metadata": {},
   "source": [
    "<img src=\"teams1.png\" width=400 height=400 />\n"
   ]
  },
  {
   "cell_type": "code",
   "execution_count": null,
   "metadata": {},
   "outputs": [],
   "source": [
    "url = 'https://www.espn.com/nhl/teams'\n",
    "\n",
    "web = get(url)\n",
    "soup = BeautifulSoup(web.text,\"html.parser\")\n",
    "\n",
    "slaw = []\n",
    "stew = soup.find('div',class_='layout is-9-3').find('div',class_='layout is-split').find_all('section')\n",
    "for i,j in enumerate(stew):\n",
    "    slaw.append(j.find('a').get('href')[16:])\n",
    "slaw"
   ]
  },
  {
   "cell_type": "markdown",
   "metadata": {},
   "source": [
    "Now, a problem begins to show from this point. It should be noted that each NHL team plays 82 games a season, and with 32 teams in the NHL, there are a total of 1312 games played. This brings the problem, as each game has around 200 data points. We can see that as we get the games that have been played, this puts a lot of strain on the computer. "
   ]
  },
  {
   "cell_type": "code",
   "execution_count": null,
   "metadata": {},
   "outputs": [],
   "source": [
    "#######################Do Not Run###############################################\n",
    "def schedules(html):\n",
    "    keys = datetime.strptime(html[0].get_text()[5:]+\" 2021\", '%b %d %Y')\n",
    "    link = html[2].find_all('span')[1].find('a').get('href')\n",
    "    ID = link.split('/')[-1]\n",
    "    return([ID,keys,link])\n",
    "\n",
    "def linking_games(url,team):\n",
    "    url =url+team\n",
    "    data = get(url)\n",
    "    soup=BeautifulSoup(data.text,\"html.parser\")\n",
    "    table = soup.find('tbody')\n",
    "    games = table.find_all('tr')\n",
    "    indexing = dict()\n",
    "    \n",
    "    for i in range(1,len(games)):\n",
    "        key = games[i].find_all('td')\n",
    "        post = len(key)\n",
    "        if post == 6:\n",
    "            keys = i\n",
    "            indexing[keys]=schedules(key)\n",
    "        elif post ==5:\n",
    "            break\n",
    "        else:\n",
    "            pass\n",
    "    return(pd.DataFrame.from_dict(indexing,columns = ['GameID','Date','Link'], orient ='index'))"
   ]
  },
  {
   "cell_type": "code",
   "execution_count": null,
   "metadata": {},
   "outputs": [],
   "source": [
    "#######################Do Not Run###############################################\n",
    "url = 'https://www.espn.com/nhl/team/schedule/_/name'\n",
    "ting = []\n",
    "for i in slaw:\n",
    "    ting.append(linking_games(url,i))\n",
    "alt = pd.concat(ting, ignore_index=True)\n",
    "alt.head()"
   ]
  },
  {
   "cell_type": "code",
   "execution_count": null,
   "metadata": {},
   "outputs": [],
   "source": [
    "#######################Do Not Run###############################################\n",
    "len(alt)"
   ]
  },
  {
   "cell_type": "markdown",
   "metadata": {},
   "source": [
    "When we remove duplicates we get the following games played so far this season:"
   ]
  },
  {
   "cell_type": "code",
   "execution_count": null,
   "metadata": {},
   "outputs": [],
   "source": [
    "#######################Do Not Run###############################################\n",
    "alt1 = alt.drop_duplicates()\n",
    "len(alt1)"
   ]
  },
  {
   "cell_type": "markdown",
   "metadata": {},
   "source": [
    "Because of the strain put on the computer, the focus on this reasearch will be narrowed down to one team. The team choosen is my favorite team, The Las Vegas Golden Knights. "
   ]
  },
  {
   "cell_type": "code",
   "execution_count": null,
   "metadata": {},
   "outputs": [],
   "source": [
    "def exercise(html):\n",
    "    keys = datetime.strptime(html[0].get_text()[5:]+\" 2021\", '%b %d %Y')\n",
    "    tip =html[1].get_text().split()\n",
    "    if tip[0]=='vs':\n",
    "        tip[0]='Home'\n",
    "    else:\n",
    "        tip[0]='Away'\n",
    "    opp = html[1].find('a').get('href').split('/')[-1].replace('-',' ').title()\n",
    "    link = html[2].find_all('span')[1].find('a').get('href')\n",
    "    loss = html[2].find_all('span')[0].get_text()\n",
    "    score = html[2].find_all('span')[1].get_text()\n",
    "    if len(score)==5:\n",
    "        how = 'reg'\n",
    "    else:\n",
    "        how = score[4:]\n",
    "        score = score[:4]\n",
    "    dep = html[4].get_text()\n",
    "    piping = html[5].get_text()\n",
    "    return([keys,tip[0],opp,link,loss,score,how,dep,piping])\n",
    "\n",
    "def schedules(html):\n",
    "    keys = datetime.strptime(html[0].get_text()[5:]+\" 2021\", '%b %d %Y')\n",
    "    link = html[2].find_all('span')[1].find('a').get('href')\n",
    "    ID = link.split('/')[-1]\n",
    "    return([ID,keys,link])"
   ]
  },
  {
   "cell_type": "code",
   "execution_count": null,
   "metadata": {},
   "outputs": [],
   "source": [
    "url = 'https://www.espn.com/nhl/team/schedule/_/name/vgk/vegas-golden-knights'\n",
    "data = get(url)\n",
    "soup=BeautifulSoup(data.text,\"html.parser\")\n",
    "table = soup.find('tbody')\n",
    "games = table.find_all('tr')\n",
    "indexing = dict()"
   ]
  },
  {
   "cell_type": "code",
   "execution_count": null,
   "metadata": {},
   "outputs": [],
   "source": [
    "for i in range(1,len(games)):\n",
    "    key = games[i].find_all('td')\n",
    "    post = len(key)\n",
    "    if post == 6:\n",
    "        keys = i\n",
    "        indexing[keys]=exercise(key)\n",
    "    elif post ==5:\n",
    "        break\n",
    "    else:\n",
    "        pass\n",
    "\n",
    "team = pd.DataFrame.from_dict(indexing,columns=['Date','Home/Away','Opponent','link','w/l','score','how','goalie','mvp'], orient ='index')\n",
    "team.head()"
   ]
  },
  {
   "cell_type": "markdown",
   "metadata": {},
   "source": [
    "Now, we can focus on getting the information from the shot chart. This posses its own problems as we will need to get the following information:\n",
    "- Type of data point\n",
    "    - hit\n",
    "    - block\n",
    "    - shot\n",
    "    - score\n",
    "- who scored the goal (and possible assist)\n",
    "- position on ice"
   ]
  },
  {
   "cell_type": "markdown",
   "metadata": {},
   "source": [
    "For all of that information, we can find in the html code itself. But first some basic understanding of a professional Ice Hockey rink. The standard NHL rink has a length of ~200 ft and a width of ~85 ft. This will be important for figuring out position on the ice. We do this by getting the css position imputs for each point and apply that to the length and width of a hockey rink."
   ]
  },
  {
   "cell_type": "markdown",
   "metadata": {},
   "source": [
    "Another item of intrest that we can get is the names of those doing the action. In each point data is a short description of what happend.\n",
    "<p>\n",
    "    one example is as follows:<br>\n",
    "    <b>Goal by Max Pacioretty, with assist from Mark Stone</b>\n",
    "</p>\n",
    "<br>\n",
    "Since the pattern of description has the person doing the action first, with the next person either helping or having the action done to them, there names can be extracted and applied.<br>\n",
    "When the links are run we get the data for each game including the opposing teams data."
   ]
  },
  {
   "cell_type": "code",
   "execution_count": null,
   "metadata": {},
   "outputs": [],
   "source": [
    "def gamecast(link): \n",
    "    data = get(link)\n",
    "    soup=BeautifulSoup(data.text,\"html.parser\")\n",
    "    board = (soup.find('div',class_='ShotChart__court__wrap')).find_all('li')\n",
    "    return(board)\n",
    "\n",
    "def px_to_ft(lst):\n",
    "    #constants\n",
    "    length = 200 #ft\n",
    "    width = 85 #ft\n",
    "    pix = 0.000868 #px to ft\n",
    "\n",
    "    if len(lst)>4 or len(lst)<4:\n",
    "        return('List is too short')\n",
    "    \n",
    "    x = length*(float(lst[2])/100)-float(lst[3])*pix \n",
    "    y = width*(float(lst[0])/100)-float(lst[1])*pix\n",
    "\n",
    "    return(x,y)\n",
    "\n",
    "def xypos(r):\n",
    "    regex_position = r'[\\d\\.\\d]+'\n",
    "    return(re.findall(regex_position,r.get('style')))\n",
    "\n",
    "def people(rex):\n",
    "    regex_score = r'[A-Z][a-z]+,?\\s+(?:[A-Z][a-z]*\\.?\\s*)?[A-Z][a-z]+'\n",
    "    return(re.findall(regex_score,rex.find('span').get_text().replace('Power Play Goal','').replace('Shorthanded Goal','')))"
   ]
  },
  {
   "cell_type": "code",
   "execution_count": null,
   "metadata": {},
   "outputs": [],
   "source": [
    "ids = team['Date'].tolist()\n",
    "link = team['link'].tolist()\n",
    "alll = []"
   ]
  },
  {
   "cell_type": "code",
   "execution_count": null,
   "metadata": {},
   "outputs": [],
   "source": [
    "for i,e in enumerate(link):\n",
    "    yo = pd.DataFrame(columns = ['Date','x','y','color','action','people'])   \n",
    "\n",
    "    point = [px_to_ft(xypos(row)) for row in gamecast(e)]\n",
    "\n",
    "    cssc = [(row.find('svg')).get('style').split()[1] for row in gamecast(e)]\n",
    "\n",
    "    act = [(row.find('svg')).find('use').get('xlink:href')[19:] for row in gamecast(e)]\n",
    "\n",
    "    peep = [people(row) for row in gamecast(e)]\n",
    "\n",
    "    x, y = zip(*point)\n",
    "\n",
    "    yo['Date'] = [ids[i] for j in x]\n",
    "    yo['x'] = x\n",
    "    yo['y'] = y\n",
    "    yo['color'] = cssc\n",
    "    yo['action'] = act\n",
    "    yo['people'] = peep\n",
    "    alll.append(yo)\n",
    "score = pd.concat(alll, ignore_index=True)\n",
    "score.head()"
   ]
  },
  {
   "cell_type": "code",
   "execution_count": null,
   "metadata": {},
   "outputs": [],
   "source": [
    "score['person'] = score['people'].apply(lambda x: np.nan if len(x)==0 else x[0])"
   ]
  },
  {
   "cell_type": "markdown",
   "metadata": {},
   "source": [
    "Now that the dataset has been obtained, two datasets will be made for further analysis. One being only the Golden Knights data, and the other being all data collected."
   ]
  },
  {
   "cell_type": "markdown",
   "metadata": {},
   "source": [
    "Now that the datasets have been created, We can look at the actions that happen in a hockey game"
   ]
  },
  {
   "cell_type": "code",
   "execution_count": null,
   "metadata": {},
   "outputs": [],
   "source": [
    "tic = score.groupby('action').count()\n",
    "lack = tic.index.tolist()\n",
    "tic"
   ]
  },
  {
   "cell_type": "markdown",
   "metadata": {},
   "source": [
    "Next, to improve accuracy of clustering analysis, the rink will be folded in half, so that way, a general sense of location on the ice can be established."
   ]
  },
  {
   "cell_type": "code",
   "execution_count": null,
   "metadata": {},
   "outputs": [],
   "source": [
    "def halfing(val,width):\n",
    "    if val>width/2:\n",
    "        return((width/2)-(val-(width/2)))\n",
    "    else:\n",
    "        return(val)\n",
    "\n",
    "score['length'] = score['x'].apply(lambda x: halfing(x,200))\n",
    "score['width'] = score['y']"
   ]
  },
  {
   "cell_type": "markdown",
   "metadata": {},
   "source": [
    "And Finally, distance from the shot to the goal as well as angle it was shot at will also be calculated."
   ]
  },
  {
   "cell_type": "code",
   "execution_count": null,
   "metadata": {},
   "outputs": [],
   "source": [
    "def distance(lst):\n",
    "    halx = 85/2\n",
    "    haly = 11\n",
    "    dx = (lst[0]-halx)**2\n",
    "    dy = (lst[1]-haly)**2\n",
    "    tank = np.sqrt(dx+dy)\n",
    "    ang = math.degrees(math.atan2(dy,dx))\n",
    "    return(tank)\n",
    "\n",
    "def angle(lst):\n",
    "    halx = 85/2\n",
    "    haly = 11\n",
    "    dx = (lst[0]-halx)**2\n",
    "    dy = (lst[1]-haly)**2\n",
    "    tank = np.sqrt(dx+dy)\n",
    "    ang = math.degrees(math.atan2(dy,dx))\n",
    "    return(ang)\n",
    "\n",
    "score['distance'] = score[['length','width']].apply(distance, axis=1)\n",
    "score['angle'] = score[['length','width']].apply(angle, axis=1)"
   ]
  },
  {
   "cell_type": "code",
   "execution_count": null,
   "metadata": {},
   "outputs": [],
   "source": [
    "for i in lack:\n",
    "    score[\"action_\"+i] = score['action'].apply(lambda x: True if x==i else False)\n",
    "score.head()"
   ]
  },
  {
   "cell_type": "code",
   "execution_count": null,
   "metadata": {},
   "outputs": [],
   "source": [
    "scoring = score[score['color']=='#333f42']"
   ]
  },
  {
   "cell_type": "markdown",
   "metadata": {},
   "source": [
    "Now that all of the data has been cleaned and prepared, a simple check on position will be performed. Since most hits in the NHL happen near the walls of the rink or \"Boards\", a simple test can be deteremined to see how accurate our positioning is."
   ]
  },
  {
   "cell_type": "code",
   "execution_count": null,
   "metadata": {},
   "outputs": [],
   "source": [
    "X = scoring[scoring['action']=='hit']['x'].tolist()\n",
    "Y = scoring[scoring['action']=='hit']['y'].tolist()"
   ]
  },
  {
   "cell_type": "code",
   "execution_count": null,
   "metadata": {},
   "outputs": [],
   "source": [
    "plt.figure(figsize=(9.28,4.19))\n",
    "plt.scatter(X,Y)\n",
    "plt.plot([100,100],[0,85],color = 'red')\n",
    "plt.plot([75,75],[0,85],color = 'blue')\n",
    "plt.plot([125,125],[0,85],color = 'blue')\n",
    "plt.plot([11,11],[8,77],color = 'blue')\n",
    "plt.plot([189,189],[0,85],color = 'blue')\n",
    "plt.show()"
   ]
  },
  {
   "cell_type": "markdown",
   "metadata": {},
   "source": [
    "From the graph above, it can be seen that a majority of hits are against the boards and there dose not seem to be any outliers that we should be worried about. It is safe to say that our position function works. However, a test needs to be run on the positions for half rink. For this, the same plot will be applied:"
   ]
  },
  {
   "cell_type": "code",
   "execution_count": null,
   "metadata": {},
   "outputs": [],
   "source": [
    "X1 = scoring[scoring['action_hit']==True]['length'].tolist()\n",
    "Y1 = scoring[scoring['action_hit']==True]['width'].tolist()\n",
    "plt.figure(figsize=(9.28,4.19))\n",
    "plt.scatter(Y1,X1)\n",
    "plt.plot([0,85],[100,100],color = 'red')\n",
    "plt.plot([0,85],[75,75],color = 'blue')\n",
    "plt.plot([8,77],[11,11],color = 'blue')\n",
    "\n",
    "plt.show()"
   ]
  },
  {
   "cell_type": "markdown",
   "metadata": {},
   "source": [
    "Again a defined boarder can be see and thus, it can be concluded that the ability to translate the function to be in half has worked."
   ]
  },
  {
   "cell_type": "markdown",
   "metadata": {},
   "source": [
    "## Analysis"
   ]
  },
  {
   "cell_type": "markdown",
   "metadata": {},
   "source": [
    "From here, a look into the number such as position, distance, and angle will be analyzied."
   ]
  },
  {
   "cell_type": "code",
   "execution_count": null,
   "metadata": {},
   "outputs": [],
   "source": [
    "sns.histplot(x='distance',data=scoring[scoring['action_goal']==True])"
   ]
  },
  {
   "cell_type": "markdown",
   "metadata": {},
   "source": [
    "From this histogram, most shots seem to be taken 30-50 feet away from the goal at any distance. "
   ]
  },
  {
   "cell_type": "code",
   "execution_count": null,
   "metadata": {},
   "outputs": [],
   "source": [
    "sns.histplot(x='angle',data=scoring[scoring['action_goal']==True])"
   ]
  },
  {
   "cell_type": "markdown",
   "metadata": {},
   "source": [
    "It also seems that the most common angle on goal is between 60-80 degrees of the goal"
   ]
  },
  {
   "cell_type": "markdown",
   "metadata": {},
   "source": [
    "https://builtin.com/data-science/data-clustering-python"
   ]
  },
  {
   "cell_type": "code",
   "execution_count": null,
   "metadata": {},
   "outputs": [],
   "source": [
    "sns.histplot(x='x',data=scoring[scoring['action_goal']==True])"
   ]
  },
  {
   "cell_type": "markdown",
   "metadata": {},
   "source": [
    "When the span of a complete rink is viewed, it is shown that most goals are made on the left side of the rink. In order to understand which side is left, look at the corrlating picture below:"
   ]
  },
  {
   "cell_type": "code",
   "execution_count": null,
   "metadata": {},
   "outputs": [],
   "source": [
    "sns.histplot(x='length',data=scoring[scoring['action_goal']==True])"
   ]
  },
  {
   "cell_type": "markdown",
   "metadata": {},
   "source": [
    "It should also be noted that most goals happen when they are 10-40 feet from the back of the goal to the middle line."
   ]
  },
  {
   "cell_type": "code",
   "execution_count": null,
   "metadata": {},
   "outputs": [],
   "source": [
    "sns.histplot(x='y',data=scoring[scoring['action_goal']==True])"
   ]
  },
  {
   "cell_type": "markdown",
   "metadata": {},
   "source": [
    "This plot shows that most goals are scored in the middle of the ice."
   ]
  },
  {
   "cell_type": "markdown",
   "metadata": {},
   "source": [
    "Finally, a correlation matrix will be created to vizually see if there is a correlation between certain actions and positions on the ice:"
   ]
  },
  {
   "cell_type": "code",
   "execution_count": null,
   "metadata": {},
   "outputs": [],
   "source": [
    "import sklearn\n",
    "from sklearn.cluster import KMeans\n",
    "from sklearn.metrics import silhouette_samples, silhouette_score"
   ]
  },
  {
   "cell_type": "code",
   "execution_count": null,
   "metadata": {},
   "outputs": [],
   "source": [
    "cor = scoring[['length','width','distance','angle','action_goal','action_shot','action_block']].corr()\n",
    "cor.style.background_gradient(cmap='coolwarm')"
   ]
  },
  {
   "cell_type": "markdown",
   "metadata": {},
   "source": [
    "The correlation matrix shows that Acions have no correlation to location, distance, and angles. Now, clustering will be applied to try and understand and define the zones of scoring goals. First we will find the optimal number of clusters needed to get the most accurate reading possible."
   ]
  },
  {
   "cell_type": "code",
   "execution_count": null,
   "metadata": {},
   "outputs": [],
   "source": [
    "X = scoring[scoring['action_goal']==True][['width','length']].copy()\n",
    "X_keep = X"
   ]
  },
  {
   "cell_type": "code",
   "execution_count": null,
   "metadata": {},
   "outputs": [],
   "source": [
    "wcss = []\n",
    "for i in range(2, 11):\n",
    "    kmeans = KMeans(n_clusters=i, random_state=0)\n",
    "    kmeans.fit(X)\n",
    "    wcss.append(kmeans.inertia_)"
   ]
  },
  {
   "cell_type": "code",
   "execution_count": null,
   "metadata": {},
   "outputs": [],
   "source": [
    "sns.set()\n",
    "plt.plot(range(2, 11), wcss)\n",
    "plt.title('Optimal Number of Clusters')\n",
    "plt.xlabel('Clusters')\n",
    "plt.ylabel('WCSS')\n",
    "plt.show()"
   ]
  },
  {
   "cell_type": "markdown",
   "metadata": {},
   "source": [
    "From this plot, it can be seen that 4 clusters is the most optimal and will be used in the actual model. A Silhouette analysis will then be applied to see how well each cluster covers the given data.<br>\n",
    "When looking at the silhouette analysis it, shows how well the clusters work in terms of positions in the data. it can be seen that these clusters match up extremely well."
   ]
  },
  {
   "cell_type": "code",
   "execution_count": null,
   "metadata": {},
   "outputs": [],
   "source": [
    "kmeans = KMeans(n_clusters=4,random_state=0,n_init=1, init='random', max_iter=5)\n",
    "model = kmeans.fit(X_keep)\n",
    "ypred = model.predict(X_keep)\n",
    "\n",
    "fig, (ax1, ax2) = plt.subplots(1, 2)\n",
    "fig.set_size_inches(18, 7)\n",
    "n_clusters = 4\n",
    "\n",
    "ax1.set_xlim([-0.1, 1])\n",
    "# The (n_clusters+1)*10 is for inserting blank space between silhouette\n",
    "# plots of individual clusters, to demarcate them clearly.\n",
    "ax1.set_ylim([0, len(X) + (n_clusters + 1) * 10])\n",
    "\n",
    "# The silhouette_score gives the average value for all the samples.\n",
    "# This gives a perspective into the density and separation of the formed\n",
    "# clusters\n",
    "silhouette_avg = silhouette_score(X_keep, ypred)\n",
    "print(\"For n_clusters =\", n_clusters,\n",
    "      \"The silhouette_score is :\", silhouette_avg)\n",
    "\n",
    "sample_silhouette_values = silhouette_samples(X_keep, ypred)\n",
    "\n",
    "y_lower = 10\n",
    "for i in range(n_clusters):\n",
    "    # Aggregate the silhouette scores for samples belonging to\n",
    "    # cluster i, and sort them\n",
    "    ith_cluster_silhouette_values = \\\n",
    "        sample_silhouette_values[ypred == i]\n",
    "\n",
    "    ith_cluster_silhouette_values.sort()\n",
    "\n",
    "    size_cluster_i = ith_cluster_silhouette_values.shape[0]\n",
    "    y_upper = y_lower + size_cluster_i\n",
    "\n",
    "    color = cm.nipy_spectral(float(i) / n_clusters)\n",
    "    ax1.fill_betweenx(np.arange(y_lower, y_upper),\n",
    "                      0, ith_cluster_silhouette_values,\n",
    "                      facecolor=color, edgecolor=color, alpha=0.7)\n",
    "\n",
    "    ax1.text(-0.05, y_lower + 0.5 * size_cluster_i, str(i))\n",
    "\n",
    "    y_lower = y_upper + 10  # 10 for the 0 samples\n",
    "\n",
    "ax1.set_title(\"The silhouette plot for the various clusters.\")\n",
    "ax1.set_xlabel(\"The silhouette coefficient values\")\n",
    "ax1.set_ylabel(\"Cluster label\")\n",
    "\n",
    "# The vertical line for average silhouette coefficient of all the values\n",
    "ax1.axvline(x=silhouette_avg, color=\"red\", linestyle=\"--\")\n",
    "\n",
    "ax1.set_yticks([])  # Clear the yaxis labels / ticks\n",
    "ax1.set_xticks([-0.1, 0, 0.2, 0.4, 0.6, 0.8, 1])\n",
    "\n",
    "# 2nd Plot showing the actual clusters formed\n",
    "colors = cm.nipy_spectral(ypred.astype(float) / n_clusters)\n",
    "ax2.scatter(X['width'], X['length'], marker='.', s=30, lw=0, alpha=0.7,\n",
    "            c=colors, edgecolor='k')\n",
    "\n",
    "# Labeling the clusters\n",
    "centers = model.cluster_centers_\n",
    "# Draw white circles at cluster centers\n",
    "ax2.scatter(centers[:, 0], centers[:, 1], marker='o',\n",
    "            c=\"white\", alpha=1, s=200, edgecolor='k')\n",
    "\n",
    "for i, c in enumerate(centers):\n",
    "    ax2.scatter(c[0], c[1], marker='$%d$' % i, alpha=1,\n",
    "                s=50, edgecolor='k')\n",
    "\n",
    "ax2.set_title(\"The visualization of the clustered data.\")\n",
    "ax2.set_xlabel(\"Feature space for the 1st feature\")\n",
    "ax2.set_ylabel(\"Feature space for the 2nd feature\")\n",
    "\n",
    "plt.suptitle((\"Silhouette analysis for KMeans clustering on sample data \"\n",
    "              \"with n_clusters = %d\" % n_clusters),\n",
    "             fontsize=14, fontweight='bold')\n",
    "\n",
    "plt.show()"
   ]
  },
  {
   "cell_type": "markdown",
   "metadata": {},
   "source": [
    "Now the model can be applied to the data. When the model is applied to the goals scored, the following graphs are obtained."
   ]
  },
  {
   "cell_type": "code",
   "execution_count": null,
   "metadata": {},
   "outputs": [],
   "source": [
    "kmeans = KMeans(n_clusters=4,random_state=0,n_init=1, init='random', max_iter=5)\n",
    "model = kmeans.fit(X)\n",
    "ypred = model.predict(X)\n",
    "X['cmp'] = ypred\n",
    "sns.scatterplot(x='width',y='length',hue='cmp',data=X)\n",
    "plt.xlabel('Width')\n",
    "plt.ylabel('length')\n",
    "plt.title('Cluster Loaction to Goals')"
   ]
  },
  {
   "cell_type": "code",
   "execution_count": null,
   "metadata": {},
   "outputs": [],
   "source": [
    "X_new = score[(score['action_block']==True)&(score['color']!='#333f42')][['width','length']]\n",
    "yy = model.predict(X_new)\n",
    "X_new['cmp'] = yy\n",
    "sns.scatterplot(x='width',y='length',hue='cmp',data=X_new)\n",
    "plt.xlabel('Width')\n",
    "plt.ylabel('length')\n",
    "plt.title('Cluster Location of Shots Blocked in Goal Areas')"
   ]
  },
  {
   "cell_type": "code",
   "execution_count": null,
   "metadata": {},
   "outputs": [],
   "source": [
    "X_new1 = scoring[scoring['action_shot']==True][['width','length']]\n",
    "yy1 = model.predict(X_new1)\n",
    "X_new1['cmp'] = yy1\n",
    "sns.scatterplot(x='width',y='length',hue='cmp',data=X_new1)\n",
    "plt.xlabel('Width')\n",
    "plt.ylabel('length')\n",
    "plt.title('Cluster Location of Shots in Goal Areas')"
   ]
  },
  {
   "cell_type": "code",
   "execution_count": null,
   "metadata": {},
   "outputs": [],
   "source": [
    "X_test = scoring[['width','length']]\n",
    "X_test1 = score[['width','length']]\n",
    "y_pred = model.predict(X_test)\n",
    "y_pred1 = model.predict(X_test1)\n",
    "scoring['cmp'] = y_pred\n",
    "score['cmp'] = y_pred1\n",
    "sns.scatterplot(x='width',y='length',hue='cmp',data=scoring)\n",
    "plt.xlabel('Width')\n",
    "plt.ylabel('length')"
   ]
  },
  {
   "cell_type": "markdown",
   "metadata": {},
   "source": [
    "Finally, a statistical analysis can be made. First, a determination of what percentage of goals made are in each zone is done."
   ]
  },
  {
   "cell_type": "code",
   "execution_count": null,
   "metadata": {},
   "outputs": [],
   "source": [
    "stats = scoring[scoring['action_goal']==True]\n",
    "for i in range(4):\n",
    "    print(\"Zone {}| {}%\".format(i,round(len(stats[stats['cmp']==i])/len(stats)*100,2)))\n"
   ]
  },
  {
   "cell_type": "markdown",
   "metadata": {},
   "source": [
    "Next, a look at how many shots on goal become goals by zone"
   ]
  },
  {
   "cell_type": "code",
   "execution_count": null,
   "metadata": {},
   "outputs": [],
   "source": [
    "num = scoring[scoring['action_goal']==True]\n",
    "dem = scoring[scoring['action_shot']==True]\n",
    "for i in range(4):\n",
    "    print(\"Zone {}| {}%\".format(i,round(len(num[num['cmp']==i])/(len(dem[dem['cmp']==0])+len(num[num['cmp']==0]))*100,2)))"
   ]
  },
  {
   "cell_type": "markdown",
   "metadata": {},
   "source": [
    "And finally, from goals made verses shots blocked by the opposing team"
   ]
  },
  {
   "cell_type": "code",
   "execution_count": null,
   "metadata": {},
   "outputs": [],
   "source": [
    "num = scoring[scoring['action_goal']==True]\n",
    "dem = score[(score['action_shot']==True)&(score['color']!='#333f42')]\n",
    "for i in range(4):\n",
    "    print(\"Zone {}| {}%\".format(i,round(len(num[num['cmp']==i])/len(dem[dem['cmp']==i])*100,2)))"
   ]
  },
  {
   "cell_type": "markdown",
   "metadata": {},
   "source": [
    "Since there is determined data for each cluster for goals, shots on goal, and blocked goals: The data can now be turned to who scores the most in each zone"
   ]
  },
  {
   "cell_type": "code",
   "execution_count": null,
   "metadata": {},
   "outputs": [],
   "source": [
    "for i in range(4):\n",
    "    t = scoring[(scoring['action_goal']==True)&(scoring['cmp']==i)]\n",
    "    d = t.groupby('person').count().sort_values(by='action_shot').idxmax().values[0]\n",
    "    g = t.groupby('person').count().sort_values(by='action_shot').tail(1)['cmp'].values[0]\n",
    "    print(\"Zone {}: Highest Scorer in area is {} with {} goals\".format(i,d,g))"
   ]
  },
  {
   "cell_type": "markdown",
   "metadata": {},
   "source": [
    "When looking at who scores the most by zones, its actually not to much a suprise has to who is scoring. Below is the list of top 10 scores for the Golden Knights and the amount of goals they scored this season."
   ]
  },
  {
   "cell_type": "code",
   "execution_count": null,
   "metadata": {},
   "outputs": [],
   "source": [
    "scoring[(scoring['action_goal']==True)].groupby('person').count().sort_values(by='x',ascending=False)['action_goal'].head(10)"
   ]
  },
  {
   "cell_type": "code",
   "execution_count": null,
   "metadata": {},
   "outputs": [],
   "source": []
  }
 ],
 "metadata": {
  "kernelspec": {
   "display_name": "Python 3",
   "language": "python",
   "name": "python3"
  },
  "language_info": {
   "codemirror_mode": {
    "name": "ipython",
    "version": 3
   },
   "file_extension": ".py",
   "mimetype": "text/x-python",
   "name": "python",
   "nbconvert_exporter": "python",
   "pygments_lexer": "ipython3",
   "version": "3.8.5"
  }
 },
 "nbformat": 4,
 "nbformat_minor": 4
}
